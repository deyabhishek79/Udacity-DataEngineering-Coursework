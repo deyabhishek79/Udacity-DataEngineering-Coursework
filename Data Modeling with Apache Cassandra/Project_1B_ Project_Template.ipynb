{
 "cells": [
  {
   "cell_type": "markdown",
   "metadata": {},
   "source": [
    "# Part I. ETL Pipeline for Pre-Processing the Files"
   ]
  },
  {
   "cell_type": "markdown",
   "metadata": {},
   "source": [
    "#### Import Python packages "
   ]
  },
  {
   "cell_type": "code",
   "execution_count": 5,
   "metadata": {},
   "outputs": [
    {
     "name": "stdout",
     "output_type": "stream",
     "text": [
      "Requirement already satisfied: PrettyTable in /opt/conda/lib/python3.6/site-packages (0.7.2)\n"
     ]
    }
   ],
   "source": [
    "# Import Python packages \n",
    "from cassandra.cluster import Cluster\n",
    "import pandas as pd\n",
    "import cassandra\n",
    "import re\n",
    "import os\n",
    "import glob\n",
    "import numpy as np\n",
    "import json\n",
    "import csv\n",
    "import sys\n",
    "!{sys.executable} -m pip install PrettyTable\n",
    "from prettytable import PrettyTable"
   ]
  },
  {
   "cell_type": "markdown",
   "metadata": {},
   "source": [
    "#### Creating list of filepaths to process original event csv data files"
   ]
  },
  {
   "cell_type": "code",
   "execution_count": 6,
   "metadata": {},
   "outputs": [
    {
     "name": "stdout",
     "output_type": "stream",
     "text": [
      "/home/workspace\n"
     ]
    }
   ],
   "source": [
    "# checking your current working directory\n",
    "print(os.getcwd())\n",
    "\n",
    "# Get your current folder and subfolder event data\n",
    "filepath = os.getcwd() + '/event_data'\n",
    "\n",
    "# Create a for loop to create a list of files and collect each filepath\n",
    "for root, dirs, files in os.walk(filepath):\n",
    "# join the file path and roots with the subdirectories using glob\n",
    "    file_path_list = glob.glob(os.path.join(root,'*'))"
   ]
  },
  {
   "cell_type": "markdown",
   "metadata": {},
   "source": [
    "#### Processing the files to create the data file csv that will be used for Apache Casssandra tables"
   ]
  },
  {
   "cell_type": "code",
   "execution_count": 7,
   "metadata": {},
   "outputs": [],
   "source": [
    "# initiating an empty list of rows that will be generated from each file\n",
    "full_data_rows_list = [] \n",
    "    \n",
    "# for every filepath in the file path list \n",
    "for f in file_path_list:\n",
    "\n",
    "# reading csv file \n",
    "    with open(f, 'r', encoding = 'utf8', newline='') as csvfile: \n",
    "        # creating a csv reader object \n",
    "        csvreader = csv.reader(csvfile) \n",
    "        next(csvreader)\n",
    "        \n",
    " # extracting each data row one by one and append it        \n",
    "        for line in csvreader:\n",
    "            #print(line)\n",
    "            full_data_rows_list.append(line) \n",
    "\n",
    "# creating a smaller event data csv file called event_datafile_full csv that will be used to insert data into the \\\n",
    "# Apache Cassandra tables\n",
    "csv.register_dialect('myDialect', quoting=csv.QUOTE_ALL, skipinitialspace=True)\n",
    "\n",
    "with open('event_datafile_new.csv', 'w', encoding = 'utf8', newline='') as f:\n",
    "    writer = csv.writer(f, dialect='myDialect')\n",
    "    writer.writerow(['artist','firstName','gender','itemInSession','lastName','length',\\\n",
    "                'level','location','sessionId','song','userId'])\n",
    "    for row in full_data_rows_list:\n",
    "        if (row[0] == ''):\n",
    "            continue\n",
    "        writer.writerow((row[0], row[2], row[3], row[4], row[5], row[6], row[7], row[8], row[12], row[13], row[16]))"
   ]
  },
  {
   "cell_type": "code",
   "execution_count": 8,
   "metadata": {},
   "outputs": [
    {
     "name": "stdout",
     "output_type": "stream",
     "text": [
      "6821\n"
     ]
    }
   ],
   "source": [
    "# check the number of rows in your csv file\n",
    "with open('event_datafile_new.csv', 'r', encoding = 'utf8') as f:\n",
    "    print(sum(1 for line in f))"
   ]
  },
  {
   "cell_type": "markdown",
   "metadata": {},
   "source": [
    "#### Creating the Cassandra Cluster"
   ]
  },
  {
   "cell_type": "code",
   "execution_count": 9,
   "metadata": {},
   "outputs": [],
   "source": [
    "# This should make a connection to a Cassandra instance your local machine \n",
    "# (127.0.0.1)\n",
    "try:\n",
    "    cluster = Cluster(['127.0.0.1'])\n",
    "    session = cluster.connect()\n",
    "except Exception as e:\n",
    "    print(e)"
   ]
  },
  {
   "cell_type": "markdown",
   "metadata": {},
   "source": [
    "#### Creating the Keyspace"
   ]
  },
  {
   "cell_type": "code",
   "execution_count": 10,
   "metadata": {},
   "outputs": [],
   "source": [
    "# TO-DO: Create a Keyspace \n",
    "try:\n",
    "    session.execute(\"\"\"\n",
    "    CREATE KEYSPACE IF NOT EXISTS sparkify\n",
    "    WITH REPLICATION =\n",
    "        {'class': 'SimpleStrategy', 'replication_factor': 1}\n",
    "    \"\"\"\n",
    "    )\n",
    "except Exception as e:\n",
    "    print(e)"
   ]
  },
  {
   "cell_type": "markdown",
   "metadata": {},
   "source": [
    "#### Set Keyspace"
   ]
  },
  {
   "cell_type": "code",
   "execution_count": 11,
   "metadata": {},
   "outputs": [],
   "source": [
    "# TO-DO: Set KEYSPACE to the keyspace specified above\n",
    "try:\n",
    "    session.set_keyspace('sparkify')\n",
    "except Exception as e:\n",
    "    print(e)"
   ]
  },
  {
   "cell_type": "markdown",
   "metadata": {},
   "source": [
    "### In this query the analysts want to see the artist, song title and song's length in the music app history that was heard during  sessionId = 338, and itemInSession  = 4. First we must create a table to represent this query. "
   ]
  },
  {
   "cell_type": "code",
   "execution_count": 14,
   "metadata": {},
   "outputs": [],
   "source": [
    "music_history_query = \"\"\"\n",
    "    CREATE TABLE IF NOT EXISTS music_history (\n",
    "        session_id int,\n",
    "        item_in_session int,\n",
    "        artist text,\n",
    "        song_title text,\n",
    "        length float,\n",
    "        PRIMARY KEY(session_id, item_in_session))\n",
    "\"\"\"\n",
    "try:\n",
    "    session.execute(music_history_query)\n",
    "except Exception as e:\n",
    "    print(e)         "
   ]
  },
  {
   "cell_type": "code",
   "execution_count": 15,
   "metadata": {
    "scrolled": false
   },
   "outputs": [],
   "source": [
    "\"\"\"\n",
    "Here we are inserting rows from the CSV which correspond to the data \n",
    "we need in this specific table.\n",
    "\"\"\"\n",
    "\n",
    "file = 'event_datafile_new.csv'\n",
    "\n",
    "with open(file, encoding = 'utf8') as f:\n",
    "    csvreader = csv.reader(f)\n",
    "    next(csvreader) # skip header\n",
    "    for line in csvreader:\n",
    "\n",
    "        insert_music_history = \"\"\"\n",
    "            INSERT INTO music_history (session_id, item_in_session, artist, song_title, length) VALUES (%s, %s, %s, %s, %s)\n",
    "        \"\"\"\n",
    "        try:\n",
    "            session.execute(insert_music_history, (int(line[8]), int(line[3]), line[0], line[9], float(line[5]) ))\n",
    "        except Exception as e:\n",
    "                print(e)"
   ]
  },
  {
   "cell_type": "code",
   "execution_count": 17,
   "metadata": {
    "scrolled": true
   },
   "outputs": [
    {
     "name": "stdout",
     "output_type": "stream",
     "text": [
      "+-----------+---------------------------------+--------------------+\n",
      "|   Artist  |            Song Title           |       Length       |\n",
      "+-----------+---------------------------------+--------------------+\n",
      "| Faithless | Music Matters (Mark Knight Dub) | 495.30731201171875 |\n",
      "+-----------+---------------------------------+--------------------+\n"
     ]
    }
   ],
   "source": [
    "# Veryifying that the table has been indeed created and it is what the analysts are looking for. \n",
    "query1 = \"\"\"\n",
    "    SELECT artist,\n",
    "        song_title,\n",
    "        length\n",
    "    FROM music_history\n",
    "    WHERE session_id = 338\n",
    "    AND item_in_session = 4\n",
    "\"\"\"\n",
    "try:\n",
    "    rows = session.execute(query1)\n",
    "except Exception as e:\n",
    "    print(e)\n",
    "\n",
    "q1 = PrettyTable(['Artist', 'Song Title', 'Length'])\n",
    "for row in rows:\n",
    "    q1.add_row([row.artist, row.song_title, row.length])\n",
    "print(q1)"
   ]
  },
  {
   "cell_type": "markdown",
   "metadata": {},
   "source": [
    "### 2. The second query the analysts have asked for is provided in this statement: Give me only the following: name of artist, song (sorted by itemInSession) and user (first and last name) for userid = 10, sessionid = 182. We first need to create a table that corresponds to their request, then veryify the information from our query. "
   ]
  },
  {
   "cell_type": "code",
   "execution_count": 18,
   "metadata": {},
   "outputs": [],
   "source": [
    "music_user_info = \"\"\"\n",
    "    CREATE TABLE IF NOT EXISTS music_user_info (\n",
    "        user_id int,\n",
    "        session_id int,\n",
    "        item_in_session int,\n",
    "        artist text,\n",
    "        song_title text,\n",
    "        first_name text,\n",
    "        last_name text,\n",
    "        PRIMARY KEY((user_id, session_id), item_in_session))\n",
    "\"\"\"\n",
    "try:\n",
    "    session.execute(music_user_info)\n",
    "except Exception as e:\n",
    "    print(e)    "
   ]
  },
  {
   "cell_type": "code",
   "execution_count": 19,
   "metadata": {},
   "outputs": [],
   "source": [
    "\"\"\"\n",
    "As with the above query, we are opening the CSV, choosing the columns/rows of data \n",
    "we need, and inserting the information properly into our music_user_info table.\n",
    "\"\"\"\n",
    "\n",
    "with open(file, encoding = 'utf8') as f:\n",
    "    csvreader = csv.reader(f)\n",
    "    next(csvreader) # skip header\n",
    "    for line in csvreader:\n",
    "\n",
    "        insert_music_user = \"\"\"\n",
    "            INSERT INTO music_user_info (user_id, session_id, item_in_session, artist, song_title, first_name, last_name) \n",
    "            VALUES (%s, %s, %s, %s, %s, %s, %s)\n",
    "        \"\"\"\n",
    "        try:\n",
    "            session.execute(insert_music_user, (int(line[10]), int(line[8]), int(line[3]), line[0], line[9], line[1], line[4] ))\n",
    "        except Exception as e:\n",
    "                print(e)"
   ]
  },
  {
   "cell_type": "code",
   "execution_count": 22,
   "metadata": {},
   "outputs": [
    {
     "name": "stdout",
     "output_type": "stream",
     "text": [
      "+-------------------+------------------------------------------------------+------------+-----------+\n",
      "|       Artist      |                      Song Title                      | First Name | Last Name |\n",
      "+-------------------+------------------------------------------------------+------------+-----------+\n",
      "|  Down To The Bone |                  Keep On Keepin' On                  |   Sylvie   |    Cruz   |\n",
      "|    Three Drives   |                     Greece 2000                      |   Sylvie   |    Cruz   |\n",
      "| Sebastien Tellier |                      Kilometer                       |   Sylvie   |    Cruz   |\n",
      "|   Lonnie Gordon   | Catch You Baby (Steve Pitron & Max Sanna Radio Edit) |   Sylvie   |    Cruz   |\n",
      "+-------------------+------------------------------------------------------+------------+-----------+\n"
     ]
    }
   ],
   "source": [
    "\"\"\"\n",
    "Using our query to verify that the information is correct and the \n",
    "data has been uploaded properly \n",
    "\"\"\"\n",
    "\n",
    "query2 = \"\"\"\n",
    "SELECT artist,\n",
    "    song_title,\n",
    "    first_name,\n",
    "    last_name\n",
    "    FROM music_user_info\n",
    "    WHERE user_id = 10\n",
    "    and session_id = 182\n",
    "\"\"\"\n",
    "try:\n",
    "    rows = session.execute(query2)\n",
    "except Exception as e:\n",
    "    print(e)\n",
    "    \n",
    "q2 = PrettyTable(['Artist', 'Song Title', 'First Name', 'Last Name'])\n",
    "for row in rows:\n",
    "    q2.add_row([row.artist, row.song_title, row.first_name, row.last_name])\n",
    "print(q2)"
   ]
  },
  {
   "cell_type": "markdown",
   "metadata": {},
   "source": [
    "### The last table we need to create is the music_app_history table, which corresponds to this request: Give me every user name (first and last) in my music app history who listened to the song 'All Hands Against His Own'"
   ]
  },
  {
   "cell_type": "code",
   "execution_count": 24,
   "metadata": {},
   "outputs": [],
   "source": [
    "## TO-DO: Query 3: Give me every user name (first and last) in my music app history who listened to the song 'All Hands Against His Own'\n",
    "music_app_history_query = \"\"\"\n",
    "    CREATE TABLE IF NOT EXISTS music_app_history (\n",
    "        song text,\n",
    "        user_id int,\n",
    "        first_name text,\n",
    "        last_name text,\n",
    "        PRIMARY KEY (song, user_id)\n",
    "    )\"\"\"\n",
    "try:\n",
    "    session.execute(music_app_history_query)\n",
    "except Exception as e:\n",
    "    print(e)         "
   ]
  },
  {
   "cell_type": "code",
   "execution_count": 26,
   "metadata": {},
   "outputs": [],
   "source": [
    "\"\"\"\n",
    "Inserting the correct information via the CSV we were given\n",
    "\"\"\"\n",
    "\n",
    "with open(file, encoding = 'utf8') as f:\n",
    "    csvreader = csv.reader(f)\n",
    "    next(csvreader) # skip header\n",
    "    for line in csvreader:\n",
    "        insert_music_app = \"\"\"\n",
    "            INSERT INTO music_app_history (song, user_id, first_name, last_name) \n",
    "            VALUES (%s, %s, %s, %s)\n",
    "        \"\"\"\n",
    "        try:\n",
    "            session.execute(insert_music_app, (line[9], int(line[10]), line[1], line[4]))\n",
    "        except Exception as e:\n",
    "                print(e)"
   ]
  },
  {
   "cell_type": "code",
   "execution_count": 27,
   "metadata": {},
   "outputs": [
    {
     "name": "stdout",
     "output_type": "stream",
     "text": [
      "+------------+-----------+\n",
      "| First Name | Last Name |\n",
      "+------------+-----------+\n",
      "|    Sara    |  Johnson  |\n",
      "|   Tegan    |   Levine  |\n",
      "| Jacqueline |   Lynch   |\n",
      "+------------+-----------+\n"
     ]
    }
   ],
   "source": [
    "\"\"\"\n",
    "Verying that the information we inserted into the table is \n",
    "correct relative to the request\n",
    "\"\"\"\n",
    "\n",
    "query3 = \"\"\"\n",
    "    SELECT first_name,\n",
    "        last_name\n",
    "        FROM music_app_history\n",
    "        WHERE song = 'All Hands Against His Own'\n",
    "        ALLOW FILTERING\n",
    "\"\"\"\n",
    "try:\n",
    "    rows = session.execute(query3)\n",
    "except Exception as e:\n",
    "    print(e)\n",
    "q3 = PrettyTable(['First Name', 'Last Name'])\n",
    "for row in rows:\n",
    "    q3.add_row([row.first_name, row.last_name])\n",
    "print(q3)"
   ]
  },
  {
   "cell_type": "markdown",
   "metadata": {},
   "source": [
    "### Drop the tables before closing out the sessions"
   ]
  },
  {
   "cell_type": "code",
   "execution_count": 17,
   "metadata": {},
   "outputs": [
    {
     "name": "stdout",
     "output_type": "stream",
     "text": [
      "tables dropped\n"
     ]
    }
   ],
   "source": [
    "\"\"\"\n",
    "Dropping the tables \n",
    "\"\"\"\n",
    "try:\n",
    "    session.execute(\"\"\"DROP TABLE sparkify.music_history;\"\"\")\n",
    "    session.execute(\"\"\"DROP TABLE sparkify.music_user_info;\"\"\")\n",
    "    session.execute(\"\"\"DROP TABLE sparkify.music_app_history\"\"\")\n",
    "    print('tables dropped')\n",
    "except Exception as e:\n",
    "    print(e)"
   ]
  },
  {
   "cell_type": "markdown",
   "metadata": {},
   "source": [
    "### Close the session and cluster connection¶"
   ]
  },
  {
   "cell_type": "code",
   "execution_count": 18,
   "metadata": {},
   "outputs": [],
   "source": [
    "session.shutdown()\n",
    "cluster.shutdown()"
   ]
  }
 ],
 "metadata": {
  "kernelspec": {
   "display_name": "Python 3",
   "language": "python",
   "name": "python3"
  },
  "language_info": {
   "codemirror_mode": {
    "name": "ipython",
    "version": 3
   },
   "file_extension": ".py",
   "mimetype": "text/x-python",
   "name": "python",
   "nbconvert_exporter": "python",
   "pygments_lexer": "ipython3",
   "version": "3.6.3"
  }
 },
 "nbformat": 4,
 "nbformat_minor": 2
}
